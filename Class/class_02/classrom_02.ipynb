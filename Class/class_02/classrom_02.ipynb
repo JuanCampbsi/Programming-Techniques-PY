{
 "cells": [
  {
   "cell_type": "code",
   "execution_count": null,
   "metadata": {},
   "outputs": [],
   "source": [
    "import numpy as np\n",
    "\n",
    "a = np.array([1, 2, 3, 4, 5, 6])\n",
    "b = a.reshape(2, 3)\n",
    "print(b)\n",
    "\n",
    "c = np.array([[1, 2, 3], [4, 5, 6]])\n",
    "d = c.ravel()\n",
    "print(d)\n",
    "\n",
    "c = np.array([[1, 2, 3], [4, 5, 6]])\n",
    "d = c.flatten()\n",
    "print(d)\n",
    "\n",
    "a = np.array([[1, 2, 3], [4, 5, 6]])\n",
    "b = a.T\n",
    "\n",
    "print(b)\n",
    "\n",
    "c = np.transpose(a)\n",
    "print(c)\n",
    "\n",
    "\n",
    "data = np.array([1, 3, 5, 7, 9, 11])\n",
    "\n",
    "# Criando uma máscara booleana\n",
    "mask = data > 5\n",
    "print(mask)  # [False False False True True True]\n",
    "\n",
    "# Usando a máscara para filtrar os dados\n",
    "filtered_data = data[mask]\n",
    "print(filtered_data)  # [ 7  9 11]"
   ]
  },
  {
   "cell_type": "code",
   "execution_count": null,
   "metadata": {},
   "outputs": [],
   "source": []
  }
 ],
 "metadata": {
  "kernelspec": {
   "display_name": "Python 3",
   "language": "python",
   "name": "python3"
  },
  "language_info": {
   "codemirror_mode": {
    "name": "ipython",
    "version": 3
   },
   "file_extension": ".py",
   "mimetype": "text/x-python",
   "name": "python",
   "nbconvert_exporter": "python",
   "pygments_lexer": "ipython3",
   "version": "3.11.4"
  },
  "orig_nbformat": 4
 },
 "nbformat": 4,
 "nbformat_minor": 2
}
