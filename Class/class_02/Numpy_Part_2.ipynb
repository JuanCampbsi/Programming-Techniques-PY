{
 "cells": [
  {
   "cell_type": "markdown",
   "metadata": {},
   "source": [
    "# <span style=\"color:blue\"> Ada Tech</span>\n",
    "\n",
    "# <span style=\"color:blue\">Técnicas de Programação I - Python</span>\n",
    "\n",
    "## <span style=\"color:blue\">Numpy Parte II</span>\n",
    "\n",
    "**Maurício Luiz Sobrinho**<br>\n",
    "**Matheus Parreiras Andrade**<br>\n",
    "**Ada**\n",
    "\n",
    "---\n"
   ]
  },
  {
   "cell_type": "markdown",
   "metadata": {},
   "source": [
    "## Numpy - Parte II\n",
    "\n",
    "- Comparações\n",
    "- Operações Avançadas: Reduções e Ordenação\n"
   ]
  },
  {
   "cell_type": "markdown",
   "metadata": {},
   "source": [
    "---\n",
    "\n",
    "## Numpy - Parte II\n"
   ]
  },
  {
   "cell_type": "markdown",
   "metadata": {},
   "source": [
    "### Comparações\n",
    "\n",
    "Comparações usando `==`, `>`,`<`,`>=`,`<=`, e `!=` também são feitas elemento por elemento.\n"
   ]
  },
  {
   "cell_type": "code",
   "execution_count": null,
   "metadata": {},
   "outputs": [],
   "source": [
    "import numpy as np\n",
    "A = np.arange(4).reshape(2, 2)      # matriz 2x2\n",
    "B = np.arange(6, 2, -1).reshape(2, 2)  # matriz 2x2\n",
    "\n",
    "M = (B == A)\n",
    "\n",
    "print(A, '\\n')\n",
    "print(B, '\\n')\n",
    "print(M)"
   ]
  },
  {
   "cell_type": "markdown",
   "metadata": {},
   "source": [
    "Para verificar se dois arrays são iguais (todos elementos são iguais) deve-se utilizar o método <font color='blue'>array_equal</font>.\n"
   ]
  },
  {
   "cell_type": "code",
   "execution_count": null,
   "metadata": {},
   "outputs": [],
   "source": [
    "A = np.arange(4).reshape(2, 2)      # matrix 2x2\n",
    "B = np.arange(6, 2, -1).reshape(2, 2)  # matrix 2x2\n",
    "C = np.copy(A)\n",
    "\n",
    "# A resposta é apenas um valor booleano\n",
    "print(np.array_equal(A, B))\n",
    "print(np.array_equal(A, C))\n",
    "\n",
    "# np.array_equal(A,B) é equivalente a:\n",
    "D = (A == B)\n",
    "print(np.all(D))"
   ]
  },
  {
   "cell_type": "markdown",
   "metadata": {},
   "source": [
    "### Reduções\n",
    "\n",
    "O <font color='blue'>numpy</font> possui métodos de redução como <font color='blue'>sum</font>, <font color='blue'>max</font>, <font color='blue'>min</font>, <font color='blue'>argmax</font> e <font color='blue'>argmin</font>. Tais métodos podem ser aplicados ao array como um todo ou somente às linhas ou colunas.\n",
    "O que controla a forma de aplicação é o parâmetro 'axis'. Quando o parâmetro 'axis' não é especificado, a redução é aplicada ao array todo.\n",
    "\n",
    "- 'axis' não especificado: retorna um valor único\n",
    "- 'axis=0' restringe a redução às colunas (percorre as linhas): retorna um array com número de elementos igual ao número de colunas\n",
    "- 'axis=1' restringe a redução às linhas (percorre as colunas): retorna um array com número de elementos igual ao número de linhas\n"
   ]
  },
  {
   "cell_type": "code",
   "execution_count": null,
   "metadata": {},
   "outputs": [],
   "source": [
    "A = np.zeros((5, 5))  # matriz 5x5 de zeros\n",
    "A[:] = np.arange(5)  # broadcasting o array [0,1,2,3,4] nas linhas\n",
    "\n",
    "print(A, '\\n')\n",
    "\n",
    "print('Soma de todos os valores: ', np.sum(A))  # todos os elementos\n",
    "print('Soma dos valores das colunas: ', np.sum(\n",
    "    A, axis=0))  # soma os valores das colunas\n",
    "print('Soma dos valores das linnhas: ', np.sum(\n",
    "    A, axis=1))  # soma os valores das linhas"
   ]
  },
  {
   "cell_type": "code",
   "execution_count": null,
   "metadata": {},
   "outputs": [],
   "source": [
    "# matriz 5x5 com números inteiros\n",
    "A = np.random.randint(low=0, high=30, size=(5, 5))\n",
    "# randomicos no intervalor entre 0 e 30\n",
    "print(A, '\\n')\n",
    "\n",
    "# todos os elementos\n",
    "print('Maior valor dentre todos na matriz: ',\n",
    "      np.max(A))    # maior valor da matriz\n",
    "print('Posição do maior valor dentre todos na matriz: ',\n",
    "      np.argmax(A))  # lineariza a matriz com A.ravel() e\n",
    "# retorna a posicão do maior valor\n",
    "\n",
    "# Por coluna\n",
    "print('Maior valor em cada coluna: ', np.max(\n",
    "    A, axis=0))  # maior valor em cada coluna\n",
    "print('Posição do maior valor em cada coluna: ', np.argmax(\n",
    "    A, axis=0))  # posição do maior valor em cada coluna"
   ]
  },
  {
   "cell_type": "markdown",
   "metadata": {},
   "source": [
    "Reduções estatísticas como:\n",
    "\n",
    "- <font color='blue'>mean</font>: média aritmética\n",
    "- <font color='blue'>median</font>: mediana\n",
    "- <font color='blue'>std</font>: desvio padrão\n",
    "\n",
    "funcionam da mesma forma, ou seja, podem ser aplicados ao array como um todo ou somente às linhas e colunas utilizando o parâmetro 'axis'.\n"
   ]
  },
  {
   "cell_type": "code",
   "execution_count": null,
   "metadata": {},
   "outputs": [],
   "source": [
    "A = np.random.randint(low=0, high=30, size=(5, 5)).astype(float)\n",
    "print(A, '\\n')\n",
    "\n",
    "print('Media de todos os valores: ', np.mean(A))   # média de todos os valores\n",
    "print('Media por coluna: ', np.mean(A, axis=0))     # média por coluna\n",
    "print('Media por linha: ', np.mean(A, axis=1))      # média por linha"
   ]
  },
  {
   "cell_type": "markdown",
   "metadata": {},
   "source": [
    "#### Redução lógica\n",
    "\n",
    "O métodos\n",
    "\n",
    "- <font color='blue'>all</font>: verifica se todos os elementos do array satisfazem a condição (True)\n",
    "- <font color='blue'>any</font>: verifica se algum elemento do array satisfaz a condição (True)\n",
    "\n",
    "também podem ser aplicados ao array como um todo ou somente às linhas e colunas utilizando o parâmetro 'axis'.\n"
   ]
  },
  {
   "cell_type": "code",
   "execution_count": null,
   "metadata": {},
   "outputs": [],
   "source": [
    "A = np.arange(25).reshape(5, 5)\n",
    "print(A, '\\n')\n",
    "\n",
    "M = A > 0\n",
    "print(M, '\\n')\n",
    "\n",
    "print('Todos os elementos são TRUE? ', np.all(M))\n",
    "print('Algum elemento é TRUE? ', np.any(M))\n",
    "\n",
    "print('Todos os elementos de cada coluna são TRUE? ', np.all(M, axis=0))\n",
    "print('Algum elemento de cada linha é TRUE? ', np.any(M, axis=1))"
   ]
  },
  {
   "cell_type": "markdown",
   "metadata": {},
   "source": [
    "### Ordenação\n",
    "\n",
    "#### <font color='blue'>sort</font>\n",
    "\n",
    "O método <font color='blue'>sort</font> do <font color='blue'>numpy</font> ordena os elementos do array.\n",
    "\n",
    "- Quando o método <font color='blue'>sort</font> é invocado utilizando a própria variável, a ordenação é feita diretamente no array (inplace). Por exemplo:\n",
    "\n",
    "```python\n",
    "A = np.random.randint(low=0,high=30,size=(5,5))\n",
    "A.sort()  # modifica o array original\n",
    "```\n",
    "\n",
    "- Quando o método <font color='blue'>sort</font> é invocado pelo <font color='blue'>numpy</font> uma cópia ordenada do array é gerada (o array original não é modificado).\n",
    "\n",
    "```python\n",
    "A = np.random.randint(low=0,high=30,size=(5,5))\n",
    "B = np.sort(A)  # `B` é uma cópia de `A` com linhas ordenas (`A` não é afetado)\n",
    "```\n",
    "\n",
    "Por padrão a ordenação é feita em cada linha (`axis=1` é o valor padrão do parâmetro 'axis' no comando <font color='blue'>sort</font>)\n"
   ]
  },
  {
   "cell_type": "code",
   "execution_count": null,
   "metadata": {},
   "outputs": [],
   "source": [
    "A = np.random.randint(low=0, high=30, size=(5, 5))\n",
    "print('Array original \"A\": \\n', A, '\\n')\n",
    "\n",
    "B = np.sort(A)  # `B` é uma cópia de `A` com linhas ordenas\n",
    "print('\"B\" é cópia de \"A\" com valores das linhas ordenados. Array \"A\" não é alterado:')\n",
    "print('B = \\n', B, '\\n')\n",
    "print('A = \\n', A, '\\n')"
   ]
  },
  {
   "cell_type": "code",
   "execution_count": null,
   "metadata": {},
   "outputs": [],
   "source": [
    "A.sort()  # as linhas de `A` são ordenadas modificando o array original\n",
    "print('Os valores das linhas do array \"A\" são ordenados: \\n A =\\n', A, '\\n')\n",
    "\n",
    "A.sort(axis=0)  # as COLUNAS de `A` são ordenadas modificando o array original\n",
    "print('Os valores das colunas são ordenadas:  \\n A =\\n', A, '\\n')"
   ]
  },
  {
   "cell_type": "markdown",
   "metadata": {},
   "source": [
    "#### <font color='blue'>argsort</font>\n",
    "\n",
    "O método <font color='blue'>argsort</font> retorna um array contendo os índicies dos elementos ordenados nas linhas. O parâmetro 'axis=0' pode ser utilizado para que a ordenação seja aplicada às colunas.\n"
   ]
  },
  {
   "cell_type": "code",
   "execution_count": null,
   "metadata": {},
   "outputs": [],
   "source": [
    "A = np.array([[12.0,  1.0, 26.0],\n",
    "              [23.0,  0.0,  7.0],\n",
    "              [10.0,  19.0, 21.0]])\n",
    "print(A, '\\n')\n",
    "\n",
    "I = np.argsort(A)  # fornece os indices dos elementos ordenados em cada linha\n",
    "print(I, '\\n')\n",
    "\n",
    "for i in range(A.shape[0]):\n",
    "    print('Indices dos elementos ordenados na linha ', i, ': ', I[i])\n",
    "    print('Linha', i, ': '+10*' ', A[i])\n",
    "    print('Linha ', i, ' ordenada: ', A[i, I[i]], '\\n')"
   ]
  }
 ],
 "metadata": {
  "kernelspec": {
   "display_name": "Python 3",
   "language": "python",
   "name": "python3"
  },
  "language_info": {
   "codemirror_mode": {
    "name": "ipython",
    "version": 3
   },
   "file_extension": ".py",
   "mimetype": "text/x-python",
   "name": "python",
   "nbconvert_exporter": "python",
   "pygments_lexer": "ipython3",
   "version": "3.8.9"
  },
  "toc": {
   "base_numbering": 1,
   "nav_menu": {},
   "number_sections": true,
   "sideBar": true,
   "skip_h1_title": false,
   "title_cell": "Table of Contents",
   "title_sidebar": "Contents",
   "toc_cell": false,
   "toc_position": {},
   "toc_section_display": true,
   "toc_window_display": false
  }
 },
 "nbformat": 4,
 "nbformat_minor": 2
}
