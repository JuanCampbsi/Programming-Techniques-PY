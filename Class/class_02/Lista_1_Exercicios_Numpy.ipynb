{
 "cells": [
  {
   "cell_type": "markdown",
   "metadata": {},
   "source": [
    "## <span style=\"color:blue\">Numpy Parte I - Exercícios</span>\n",
    "\n",
    "**Maurício Luiz Sobrinho**<br>\n"
   ]
  },
  {
   "cell_type": "markdown",
   "metadata": {},
   "source": [
    "#### <span style=\"color:red\">Recomenda-se fortemente que os exercícios sejam feitos sem consultar as respostas antecipadamente.</span>\n"
   ]
  },
  {
   "cell_type": "code",
   "execution_count": null,
   "metadata": {},
   "outputs": [],
   "source": [
    "import numpy as np"
   ]
  },
  {
   "cell_type": "markdown",
   "metadata": {},
   "source": [
    "### Exercício 1)\n",
    "\n",
    "Construa um array unidimensional com 30 números inteiros escolhidos de forma randômica no intervalo entre 0 e 20. Reformate o array para que se torne uma matriz `A` com 5 linhas e 6 colunas.\n"
   ]
  },
  {
   "cell_type": "code",
   "execution_count": null,
   "metadata": {},
   "outputs": [],
   "source": [
    "x = np.random.randint(0, 20, 30).reshape(5, 6)\n",
    "print(x)"
   ]
  },
  {
   "cell_type": "markdown",
   "metadata": {},
   "source": [
    "### Exercício 2)\n",
    "\n",
    "Crie uma **view** da matriz `A` gerada na célula anterior contendo:\n",
    "\n",
    "- as linhas de `A` com índices 0,1 e 3\n",
    "- as linhas de `A` com índice 1 e 2 e as colunas com índice 0,2 e 4\n",
    "- as linhas de `A` com índice 1 e 3 e as colunas com índice 1 e 3\n"
   ]
  },
  {
   "cell_type": "code",
   "execution_count": null,
   "metadata": {},
   "outputs": [],
   "source": [
    "print(x)\n",
    "y = x[[0, 1, 3], :]\n",
    "t = x[1:3, [0, 2, 4]]\n",
    "x = x[[1, 3]][:, [1, 3]]\n",
    "\n",
    "print(\"Resultado - 1\\n\", y)\n",
    "print(\"Resultado - 2\", t)\n",
    "print(\"Resultado - 3\", x)"
   ]
  },
  {
   "cell_type": "markdown",
   "metadata": {},
   "source": [
    "### Exercício 3)\n",
    "\n",
    "Construa um array `A` bidimensional 5x6 com 30 números inteiros escolhidos de forma randômica no intervalo entre 0 e 20.\n",
    "\n",
    "- faça uma cópia do array `A` criado, chamando a cópia de `Ac`\n",
    "- Substitua todos os elementos do array `A` que sejam maiores que 10 pelo valor -1\n",
    "- Substitua todos os elementos do array `Ac` que sejam maiores que 7 e menores que 15 pelo valor -1\n",
    "\n",
    "**Dica:** Gere máscaras booleanas para realizar as modificações nos arrays.\n"
   ]
  },
  {
   "cell_type": "code",
   "execution_count": null,
   "metadata": {},
   "outputs": [],
   "source": [
    "a = np.random.randint(0, 20, 30).reshape(5, 6)\n",
    "print(\"Antes: \\n\", a)\n",
    "ac = a.flatten().reshape(5, 6)\n",
    "mask_a = a > 10\n",
    "mask_ac = (ac > 7) & (ac < 15)\n",
    "\n",
    "\n",
    "a[mask_a] = -1\n",
    "ac[mask_ac] = -1\n",
    "\n",
    "print(\"Resultado de (A) com -1: \\n\", a)\n",
    "print(\"Resultado de (Ac) com -1: \\n\", ac)"
   ]
  },
  {
   "cell_type": "markdown",
   "metadata": {},
   "source": [
    "### Exercício 4)\n",
    "\n",
    "Construa um array `A` com 20 linhas e 10 colunas onde os elementos são os números interios de 1 até 200.\n",
    "\n",
    "- Crie uma **view** de `A` chamada `A_lpares` contendo apenas as linhas de `A` com índice par.\n",
    "- Crie uma **view** de `A` chamada `A_lpares_cimpares` contendo as linhas `A` com índice par e colunas com índice ímpar.\n"
   ]
  },
  {
   "cell_type": "code",
   "execution_count": null,
   "metadata": {},
   "outputs": [],
   "source": [
    "a = np.array(range(1, 201)).reshape(20, 10)\n",
    "print(\"Antes \\n\", a)\n",
    "a_lpares = a[::2]\n",
    "a_lpares_cimpares = a[::2, ::2]\n",
    "\n",
    "print(\"Par \\n\", a_lpares)\n",
    "print(\"Pares linhas e Impar colunas \\n\", a_lpares_cimpares)"
   ]
  },
  {
   "cell_type": "markdown",
   "metadata": {},
   "source": [
    "### Exercício 5)\n",
    "\n",
    "Substitua os elememtos do array `A` do exercício anterior por -1 quando pelo menos um dos índices do elemento é par.\n",
    "\n",
    "**Dica:** Construa uma máscara booleana\n"
   ]
  },
  {
   "cell_type": "code",
   "execution_count": null,
   "metadata": {},
   "outputs": [],
   "source": [
    "rows, col = np.indices(a.shape)\n",
    "mask_lapares = (rows % 2 == 0) | (col % 2 == 0)\n",
    "\n",
    "a[mask_lapares] = -1\n",
    "print(\"Par -1 \\n\", a)"
   ]
  },
  {
   "cell_type": "markdown",
   "metadata": {},
   "source": [
    "### Exercício 6)\n",
    "\n",
    "Considere o array `X` de números tipo <font color='blue'>float</font> gerado a partir de uma distribuição uniforme no intervalo entre 0 e 1. Escreva um código para encontrar os três menores valores do array.\n",
    "\n",
    "**Dica:** Converta o array em uma lista e ordene.\n"
   ]
  },
  {
   "cell_type": "code",
   "execution_count": 22,
   "metadata": {},
   "outputs": [
    {
     "name": "stdout",
     "output_type": "stream",
     "text": [
      "Eixo: \n",
      " [0.007185433558302479, 0.2522359121701042, 0.25243157178136666]\n"
     ]
    }
   ],
   "source": [
    "a = np.random.uniform(0, 1, 30).reshape(6, 5)\n",
    "x_sorted = sorted(a.ravel())\n",
    "print(\"Eixo: \\n\", x_sorted[:3])"
   ]
  },
  {
   "cell_type": "markdown",
   "metadata": {},
   "source": [
    "### Exercício 7)\n",
    "\n",
    "Escreva uma função chamada `troca_colunas` que recebe um array e o índice de duas colunas como parâmetros e retorna o array com as colunas trocadas. Por exemplo:\n",
    "\n",
    "```python\n",
    "X = np.array([[0, 1, 2, 3, 4, 5],\n",
    "              [0, 1, 2, 3, 4, 5],\n",
    "              [0, 1, 2, 3, 4, 5]])\n",
    "\n",
    "X = troca_colunas(X,1,3)\n",
    "print(X)\n",
    "```\n",
    "\n",
    "deve resultar em\n",
    "\n",
    "```python\n",
    "[[0 3 2 1 4 5]\n",
    " [0 3 2 1 4 5]\n",
    " [0 3 2 1 4 5]]\n",
    "```\n"
   ]
  },
  {
   "cell_type": "code",
   "execution_count": null,
   "metadata": {},
   "outputs": [],
   "source": [
    "x = np.array([[0, 1, 2, 3, 4, 5],\n",
    "              [0, 1, 2, 3, 4, 5],\n",
    "              [0, 1, 2, 3, 4, 5]])\n",
    "\n",
    "\n",
    "def troca_colunas(x_array, col1, col2):\n",
    "    x_transpose = x_array.T\n",
    "    x_transpose[col1], x_transpose[col2] = x_transpose[col2].copy(\n",
    "    ), x_transpose[col1].copy()\n",
    "    return x_transpose.T\n",
    "\n",
    "\n",
    "troca_x = troca_colunas(x, 1, 3)\n",
    "print(troca_x)"
   ]
  },
  {
   "cell_type": "markdown",
   "metadata": {},
   "source": [
    "### Exercício 8)\n",
    "\n",
    "Escreva um código para, data uma matriz, zerar todos os elementos abaixo da diagonal principal da matriz. Por exemplo:\n",
    "\n",
    "```python\n",
    "[[2 8 3 4 8]\n",
    " [4 8 7 7 3]\n",
    " [8 2 3 1 4]\n",
    " [8 6 3 8 1]\n",
    " [6 4 4 6 1]]\n",
    "```\n",
    "\n",
    "deve resultar em\n",
    "\n",
    "```python\n",
    "[[2 8 3 4 8]\n",
    " [0 8 7 7 3]\n",
    " [0 0 3 1 4]\n",
    " [0 0 0 8 1]\n",
    " [0 0 0 0 1]]\n",
    "```\n"
   ]
  },
  {
   "cell_type": "code",
   "execution_count": null,
   "metadata": {},
   "outputs": [],
   "source": [
    "data = np.array([[2, 8, 3, 4, 8],\n",
    "                 [4, 8, 7, 7, 3],\n",
    "                 [8, 2, 3, 1, 4],\n",
    "                 [8, 6, 3, 8, 1],\n",
    "                 [6, 4, 4, 6, 1]])\n",
    "\n",
    "# Com método triu\n",
    "result = np.triu(data)\n",
    "print(\"Com método do numpy: \\n\", result)\n",
    "\n",
    "\n",
    "# Percorrendo a matriz\n",
    "data_nomethod = data.copy()\n",
    "\n",
    "rows, cols = data_nomethod.shape\n",
    "for i in range(1, rows):\n",
    "    for j in range(i):\n",
    "        data_nomethod[i, j] = 0\n",
    "\n",
    "print(\"Sem o método: \\n\", data_nomethod)"
   ]
  }
 ],
 "metadata": {
  "kernelspec": {
   "display_name": "Python 3",
   "language": "python",
   "name": "python3"
  },
  "language_info": {
   "codemirror_mode": {
    "name": "ipython",
    "version": 3
   },
   "file_extension": ".py",
   "mimetype": "text/x-python",
   "name": "python",
   "nbconvert_exporter": "python",
   "pygments_lexer": "ipython3",
   "version": "3.11.4"
  }
 },
 "nbformat": 4,
 "nbformat_minor": 2
}
