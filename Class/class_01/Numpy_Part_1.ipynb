{
 "cells": [
  {
   "cell_type": "markdown",
   "metadata": {},
   "source": [
    "## <span style=\"color:blue\">Numpy Parte I</span>\n",
    "\n",
    "**Maurício Luiz Sobrinho**<br>\n",
    "**mluizsobrinho@gmail.com**<br>\n",
    "**linkedin/in/mauriciosobrinho**<br>\n",
    "**Matheus Parreiras Andrade**<br>\n",
    "**Ada Tech**\n",
    "\n",
    "---\n"
   ]
  },
  {
   "cell_type": "markdown",
   "metadata": {},
   "source": [
    "**Conteúdo:**\n",
    "\n",
    "- Módulo - [DS-PY-004] Técnicas de Programação I (PY): (GIT, Pandas, Numpy, Leitura de Dados, Limpeza de Dados, Transformação de Dados) <br><br>\n",
    "\n",
    "- Numpy - Parte I:\n",
    "  - Visão geral\n",
    "  - Básico de arrays\n",
    "  - Manipulação das dimensões\n",
    "  - Iterar e repartir\n",
    "  - Indexação estilosa\n",
    "  - Cópias e visualizações\n",
    "- I/O com Numpy\n",
    "  - Leitura e escrita de arrays\n",
    "\n",
    "**Referencias:**\n",
    "\n",
    "[Numpy Tutorial](https://www.python-course.eu/numpy.php)\n",
    "\n",
    "---\n"
   ]
  },
  {
   "cell_type": "markdown",
   "metadata": {},
   "source": [
    "## Numpy\n",
    "\n",
    "<font color='blue'>Numpy</font> é um pacote Python para processamento matricial (computação orientada a matriz) onde:\n",
    "\n",
    "- as classes e métodos são majoritariamente escrito em C, garantindo eficiência computacional\n",
    "- possui muitos recursos para computação científica e problemas de álgebra linear\n",
    "\n",
    "Vários outros pacotes do Python dependem fortemente do <font color='blue'>numpy</font> , como por exemplo:\n",
    "\n",
    "- pandas\n",
    "- matplotlib\n",
    "- sklearn\n"
   ]
  },
  {
   "cell_type": "markdown",
   "metadata": {},
   "source": [
    "Numpy é um pacote, precisa portanto ser importado. A forma típica de importar o <font color='blue'>numpy</font> é\n",
    "\n",
    "```python\n",
    "import numpy as np\n",
    "```\n",
    "\n",
    "porém, outras formas também podem ser utilizadas, como por exemplo:\n",
    "\n",
    "```python\n",
    "import numpy\n",
    "from numpy import *\n",
    "```\n",
    "\n",
    "A estruta de dados base do <font color='blue'>numpy</font> são os `arrays`, que funcionam de forma semelhante às listas em Python, no entanto:\n",
    "\n",
    "- Todos os elementos em um array deve ser do mesmo tipo, tipicamente um tipo numérico como <font color='blue'>float</font> ou <font color='blue'>int</font>\n",
    "- Os arrays viabilizam a realização eficiente de operações numéricas envolvendo grandes quantidades de dados, sendo para este fim, muito mais eficientes que as listas.\n",
    "- Cada dimensão de um array é chamada de eixo (_axis_)\n",
    "- Os eixos são numerados a partir de $0$\n",
    "- Os elementos são acessados utilizando colchetes <font color='blue'>[]</font> (semelhante às listas do Python)\n"
   ]
  },
  {
   "cell_type": "markdown",
   "metadata": {},
   "source": [
    "### Construindo arrays\n",
    "\n",
    "Arrays podem ser construidos de muitas formas diferentes:\n",
    "\n",
    "- convertendo listas\n",
    "- via métodos do <font color='blue'>numpy</font>\n",
    "- convertendo DataFrames\n"
   ]
  },
  {
   "cell_type": "code",
   "execution_count": null,
   "metadata": {},
   "outputs": [],
   "source": [
    "import numpy as np\n",
    "\n",
    "# criando um array unidimensional a partir de uma lista\n",
    "print(\"1D array\", 5*'-', '\\n')\n",
    "\n",
    "lst = [1, 3, 5, 7, 9, 10]\n",
    "a1d = np.array(lst)\n",
    "print(a1d)\n",
    "\n",
    "# note que na impressão de um array, as vírgulas entre elementos não aparecem como no caso de listas\n",
    "print(lst)"
   ]
  },
  {
   "cell_type": "code",
   "execution_count": null,
   "metadata": {},
   "outputs": [],
   "source": [
    "# Criando arrays unidimensionais a partir de métodos do numpy\n",
    "b1d = np.zeros((8))  # array com oito elementos iguais a zero\n",
    "print('b1d=', b1d)\n",
    "\n",
    "c1d = np.ones((10))  # array com oito elementos iguais a um\n",
    "print('c1d=', c1d)\n",
    "\n",
    "d1d = np.arange(10)  # array com numeros entre 0 e 9\n",
    "print('d1d=', d1d)\n",
    "\n",
    "# array com 5 números igualmente espaçados no intervalo entre 1 e 2\n",
    "e1d = np.linspace(1, 2, 5)\n",
    "print('e1d=', e1d)"
   ]
  },
  {
   "cell_type": "code",
   "execution_count": null,
   "metadata": {},
   "outputs": [],
   "source": [
    "# Criando array bidimensional (matriz) a partir de uma lista de listas\n",
    "print(\"\\n 2D array\", 5*'-', '\\n')\n",
    "a2d = np.array([[1, 3, 5, 7, 9, 11],\n",
    "                [2, 4, 6, 8, 10, 12],\n",
    "                [0, 1, 2, 3, 4, 5]])\n",
    "print('a2d=\\n', a2d)"
   ]
  },
  {
   "cell_type": "code",
   "execution_count": null,
   "metadata": {},
   "outputs": [],
   "source": [
    "# Criando arrays ubidimensionais a partir de métodos do numpy\n",
    "b2d = np.zeros((5, 3))  # criando matriz 5X3 de zeros\n",
    "print('b2d=\\n', b2d)\n",
    "\n",
    "c2d = np.ones((5, 10))  # criando matriz 5X10 de uns\n",
    "print('c2d=\\n', c2d)\n",
    "\n",
    "d2d = np.identity(3)  # criando matrix identidade 3X3\n",
    "print('d2d=\\n', d2d)"
   ]
  },
  {
   "cell_type": "code",
   "execution_count": null,
   "metadata": {},
   "outputs": [],
   "source": []
  },
  {
   "cell_type": "markdown",
   "metadata": {},
   "source": [
    "Numpy arrays são objetos chamados _ndarrays_ e possuem diversos atributos\n",
    "\n",
    "- ndarray.ndim - número de eixos (dimensões) do array\n",
    "- ndarray.shape - uma tupla de inteiros indicando o tamanho do array em cada dimensão\n",
    "- ndarray.size - o número total de elementos do array\n",
    "- ndarray.dtype - tipo dos elementos no array\n",
    "- ndarray.itemsize - o tamanho em bytes de cada elemento do array\n",
    "- ndarray.data - o buffer de memória contendo os elementos do array\n"
   ]
  },
  {
   "cell_type": "code",
   "execution_count": null,
   "metadata": {},
   "outputs": [],
   "source": [
    "# considere os arrays 'a1d', 'b1d', 'a2d', 'b2d' e 'c2d' criados nas células anteriores\n",
    "print(\" ndim: numero de eixos dos arrays\")\n",
    "print('a1d.ndim =', a1d.ndim)\n",
    "print('b1d.ndim =', b1d.ndim)\n",
    "print('a2d.ndim =', a2d.ndim)\n",
    "print('c2d.ndim =', c2d.ndim)\n",
    "\n",
    "print(\"\\n shape: tamanho do array em cada dimensao\")\n",
    "print('a1d.shape =', a1d.shape)\n",
    "print('b1d.shape =', b1d.shape)\n",
    "print('a2d.shape =', a2d.shape)\n",
    "print('c2d.shape =', c2d.shape)"
   ]
  },
  {
   "cell_type": "code",
   "execution_count": null,
   "metadata": {},
   "outputs": [],
   "source": [
    "print(\"\\n size: numero total de elementos\")\n",
    "print('a1d.size =', a1d.size)\n",
    "print('b1d.size =', b1d.size)\n",
    "print('a2d.size =', a2d.size)\n",
    "print('c2d.size =', c2d.size)\n",
    "\n",
    "print(\"\\n dtype: tipo dos elementos\")\n",
    "print('a1d.dtype =', a1d.dtype)\n",
    "print('b1d.dtype =', b1d.dtype)\n",
    "print('a2d.dtype =', a2d.dtype)\n",
    "print('c2d.dtype =', c2d.dtype)"
   ]
  },
  {
   "cell_type": "code",
   "execution_count": null,
   "metadata": {},
   "outputs": [],
   "source": [
    "print(\"\\n itemsize: tamanho em bytes de cada elemento\")\n",
    "print('a1d.itemsize =', a1d.itemsize)\n",
    "print('b1d.itemsize =', b1d.itemsize)\n",
    "print('a2d.itemsize =', a2d.itemsize)\n",
    "print('c2d.itemsize =', c2d.itemsize)\n",
    "\n",
    "print(\"\\n data: buffer contendo os elementos do array\")\n",
    "print('a1d.data =', a1d.data)\n",
    "print('b1d.data =', b1d.data)\n",
    "print('a2d.data =', a2d.data)\n",
    "print('c2d.data =', c2d.data)"
   ]
  },
  {
   "cell_type": "markdown",
   "metadata": {},
   "source": [
    "**Importante:** Arrays unidimensionais podem ter uma das dimensões livres.\n"
   ]
  },
  {
   "cell_type": "code",
   "execution_count": null,
   "metadata": {},
   "outputs": [],
   "source": [
    "a = np.zeros((5))\n",
    "b = np.zeros((5, 1))\n",
    "print('a.shape = ', a.shape)\n",
    "print('b.shape = ', b.shape)\n",
    "print('a.ndim = ', a.ndim)\n",
    "print('b.ndim = ', b.ndim)"
   ]
  },
  {
   "cell_type": "markdown",
   "metadata": {},
   "source": [
    "Note que o array cujo <font color='blue'>shape</font> é (5,) possui apenas 1 eixo, enquanto que o array com <font color='blue'>shape</font> (5,1) possui 2 eixos (ndim =2). Este último corresponde a uma matrix com 5 linhas e 1 coluna.\n"
   ]
  },
  {
   "cell_type": "markdown",
   "metadata": {},
   "source": [
    "### Acessando os elementos de um array\n",
    "\n",
    "Como no caso de sequências, os índices de um array variam de 0 a $k_i-1$, onde $k_i$ é o número de elementos na dimensão $ i $\n"
   ]
  },
  {
   "cell_type": "code",
   "execution_count": null,
   "metadata": {},
   "outputs": [],
   "source": [
    "# Acessando elementos do array\n",
    "# Índices variam de 0 a ki-1 em cada dimensão, onde ki é o número de elementos no dimensão i\n",
    "print(a1d)\n",
    "print('elemento 0 = ', a1d[0])\n",
    "print('elemento de indice 3 = ', a1d[3])\n",
    "# -1 corresponde ao último elemento do array\n",
    "print('ultimo elemento do array = ', a1d[-1])\n",
    "\n",
    "print(5*'-')\n",
    "print(a2d)\n",
    "print('linha de indice 1 = ', a2d[1])  # quando apenas um índice é fornecido\n",
    "# para um array bidimensional\n",
    "# o que é retornado é a linha correspondente\n",
    "# ao índice fornecido\n",
    "\n",
    "print('elemento na linha 0 coluna 1 = ', a2d[0, 1])\n",
    "print('elemento na linha 1 coluna 2 = ', a2d[1, 2])\n",
    "print('elemento na ultima linha e ultima coluna = ', a2d[-1, -1])"
   ]
  },
  {
   "cell_type": "markdown",
   "metadata": {},
   "source": [
    "#### Percorrendo elementos com laço <font color='blue'>for</font>\n",
    "\n",
    "A iteração é feita por linhas, se o que se busca são os elementos, deve-se utilizar um laço duplo ou então a versão 'flat' do array.\n"
   ]
  },
  {
   "cell_type": "code",
   "execution_count": null,
   "metadata": {},
   "outputs": [],
   "source": [
    "# percorrendo as linhas\n",
    "for i, r in enumerate(a2d):  # o comando 'enumerate' enumera a iteração e retorna o elemento\n",
    "    print('linha ', i, ' = ', r)\n",
    "\n",
    "print(5*'--', ' iterando o array')\n",
    "# percorrendo elementos\n",
    "for i, r in enumerate(a2d):\n",
    "    for j, e in enumerate(r):\n",
    "        print('elemento ', i, ' ', j, ' = ', e)\n",
    "\n",
    "print(5*'--', ' utilizando indices')\n",
    "# pode-se também utilizar indices diretamente\n",
    "for i in range(a2d.shape[0]):      # .shape[0] fornece numero linhas\n",
    "    for j in range(a2d.shape[1]):  # .shape[1] fornece numero colunas\n",
    "        print('elemento ', i, ' ', j, ' = ', a2d[i, j])\n",
    "\n",
    "print(5*'--', ' utilizando flat')\n",
    "# o atributo 'flat' coloca todos os elementos como em uma lista\n",
    "for i in a2d.flat:\n",
    "    print(i)"
   ]
  },
  {
   "cell_type": "markdown",
   "metadata": {},
   "source": [
    "#### Fatiando arrays (slicing)\n",
    "\n",
    "A melhor forma de se percorrer um array é por meio de 'slicing', evitando o uso de laços <font color='blue'>for</font>, que são computacionalmente muito menos eficientes.\n",
    "\n",
    "- Array slicing funciona como em listas, mas em múltiplas dimensões\n",
    "- Omitir um índice corresponde a recuperar toda a dimensão omitida\n",
    "- Um slice é uma \"visão\" (**VIEW**) do array original (similar a uma referencia), isto é, o dado não é copiado\n"
   ]
  },
  {
   "cell_type": "code",
   "execution_count": null,
   "metadata": {},
   "outputs": [],
   "source": [
    "a2d = np.array([[1, 3, 5, 7, 9, 11],     # criando um array bidimensional a partir de uma\n",
    "                [2, 4, 6, 8, 10, 12],  # lista de listas\n",
    "                [0, 1, 2, 3, 4, 5]])\n",
    "print(a2d)\n",
    "\n",
    "# slicing de colunas\n",
    "print('a2d[1,:] - Recupera a linha de indice 1 (equivalent to a2d[1])\\n', a2d[1, :])\n",
    "\n",
    "# slicing de linhas\n",
    "print('a2d[:,2] - Recupera a coluna de indice 2\\n', a2d[:, 2])\n",
    "\n",
    "# slicing de blocos\n",
    "print('a2d[1:,2:5] - Recupera o bloco a partir da linha de indice 1 e colunas 2,3 e 4\\n', a2d[1:, 2:5])\n",
    "\n",
    "print('a2d[[0,2]] - Recupera as linhas 0 e 2\\n', a2d[[0, 2]])\n",
    "# note que uma lista com o indice\n",
    "# das linhas é passada para o slicing\n",
    "\n",
    "print('a2d[:,[0,2,5]] - Recuperando as colunas 0,2 e 5 \\n', a2d[:, [0, 2, 5]])\n",
    "# note que uma lista com o indice\n",
    "# das colunas é passada para o slicing\n",
    "\n",
    "print('a2d[[0,1,2],[0,2,5]] - Recuperando os elementos das posicoes 0,0 1,2 e 2,5 \\n',\n",
    "      a2d[[0, 1, 2], [0, 2, 5]])\n",
    "# quando duas listas, uma com indices de linhas e outra com indices de colunas, são passadas\n",
    "# para o slicing, elementos dos pares de posicoes são recuperados. As duas listas devem\n",
    "# conter o mesmo número de elementos (indices)"
   ]
  },
  {
   "cell_type": "code",
   "execution_count": null,
   "metadata": {},
   "outputs": [],
   "source": [
    "a = np.ones((3, 3))\n",
    "print('a: matrix 3x3')\n",
    "\n",
    "# Quando uma linha ou coluna é fixada\n",
    "# o slicing gera um array unidimensional (secunda dimensão livre)\n",
    "print('Quando uma linha ou coluna é fixada o slicing gera um array unidimensional (segunda dimensão livre)')\n",
    "print('[:2,1]', a[:2, 1].shape)\n",
    "print('[:,-1]', a[:, -1].shape)\n",
    "print('[2]', a[2].shape)\n",
    "print('[2,:]', a[2, :].shape)\n",
    "\n",
    "# Quando os símbolo ':' é utilizado\n",
    "# o slicing fixa a dimensão\n",
    "print('Quando os símbolo \":\" é utilizado o slicing fixa a segunda dimensão livre')\n",
    "print('[2:,:]', a[2:, :].shape)\n",
    "print('[:2,1:]', a[:2, 1:].shape)\n",
    "print('[:2,-1:]', a[:2, -1:].shape)\n",
    "print('[:,-1:]', a[:, -1:].shape)"
   ]
  },
  {
   "cell_type": "markdown",
   "metadata": {},
   "source": [
    "### Métodos <font color='blue'>flatten</font> , <font color='blue'>ravel</font> e <font color='blue'>reshape</font>\n",
    "\n",
    "O método <font color='blue'>reshape</font> permite reformatar o array modificando o número de linhas e colunas, porém, a nova 'shape' tem que possuir o mesmo número de elementos do array original.\n",
    "\n",
    "O método <font color='blue'>ravel</font> concatena as linhas da matriz em um array unidimensional.\n",
    "\n",
    "O método <font color='blue'>flatten</font> também concatena as linhas da matriz em um array unidimensional, porém, faz uma cópia dos elementos. O método <font color='blue'>ravel</font> gera uma **view**, portanto se algum elemento for modificado, o array original também é modificado.\n"
   ]
  },
  {
   "cell_type": "code",
   "execution_count": null,
   "metadata": {},
   "outputs": [],
   "source": [
    "# Criando um array randomico on números entre 0 e 8 e\n",
    "# reformatando para a forma de uma matrix 3x3\n",
    "a = np.arange(9).reshape((3, 3))\n",
    "print('a:\\n', a)\n",
    "\n",
    "# concatenando as linhas de a (ravel não faz cópia)\n",
    "b = a.ravel()\n",
    "print('\\nb = a.ravel():\\n', b)\n",
    "\n",
    "# modificando elemento b[2]\n",
    "b[2] = -2\n",
    "print('\\nb[2] modificado :', b)\n",
    "\n",
    "# elemento a[0,2] é afetado pela modificacao de b[2]\n",
    "print(\n",
    "    '\\nelemento a[0,2] é afetado quando b[2] foi alterado, pois \"ravel nao faz copia')\n",
    "print(a)"
   ]
  },
  {
   "cell_type": "code",
   "execution_count": null,
   "metadata": {},
   "outputs": [],
   "source": [
    "# Criando um array randomico on números entre 0 e 8 e\n",
    "# reformatando para a forma de uma matrix 3x3\n",
    "a = np.arange(9).reshape((3, 3))\n",
    "print('a:\\n', a)\n",
    "\n",
    "# concatenando as linhas de 'a' com flatten()\n",
    "# uma cópia dos elementos de 'a' é feita\n",
    "c = a.flatten()\n",
    "print('\\nc = a.flatten():\\n', c)\n",
    "\n",
    "\n",
    "# alterando elemento c[2]\n",
    "c[2] = -1\n",
    "print('\\nelemento c[2] alterado\\n', c)\n",
    "\n",
    "# elemento a[0,2] NÃO é afetado pela modificacao de c[2]\n",
    "print(\n",
    "    '\\nelemento a[0,2] NAO e afetado quando c[2] foi alterado, pois \"flatten faz copia')\n",
    "print(a)"
   ]
  },
  {
   "cell_type": "markdown",
   "metadata": {},
   "source": [
    "### Transposta de uma matriz\n",
    "\n",
    "A transposta de uma matriz pode ser calculada simplesmente invocando o atributo <font color='blue'>.T</font> do objeto 'ndarray'.\n"
   ]
  },
  {
   "cell_type": "code",
   "execution_count": null,
   "metadata": {},
   "outputs": [],
   "source": [
    "a = np.ones((5, 3))  # matriz 5x3 com valores 1\n",
    "print(a)\n",
    "print(a.shape)\n",
    "\n",
    "print('\\nObtendo a transposta')\n",
    "a_transposta = a.T\n",
    "print(a_transposta)\n",
    "print(a_transposta.shape)"
   ]
  },
  {
   "cell_type": "markdown",
   "metadata": {},
   "source": [
    "### Máscara booleanas\n",
    "\n",
    "Um array de valores booleanos (máscara booleana) pode ser usado para selecionar elementos em um array.\n",
    "\n",
    "Máscaras boolenas também podem ser empregadas para fazer atribuições de maneira eficiente e elegante.\n"
   ]
  },
  {
   "cell_type": "code",
   "execution_count": null,
   "metadata": {},
   "outputs": [],
   "source": [
    "# gerando numeros entre 0 e 17 e reformatando em uma matriz 3x6\n",
    "x = np.arange(18).reshape(3, 6)\n",
    "print(x)\n",
    "\n",
    "# calculando uma máscara booleana onde o valor True\n",
    "# corresponde aos elementos maiores que 7\n",
    "mask = (x > 7)\n",
    "\n",
    "print('\\nMascara booleana da matriz para valores maiores que 7')\n",
    "print(mask)\n",
    "\n",
    "print('\\nRecuperando apenas os elementos maiores que 7')\n",
    "print(x[mask])\n",
    "\n",
    "print('\\nModificando apenas os elementos maiores que 7')\n",
    "x[mask] = 0\n",
    "print(x)"
   ]
  },
  {
   "cell_type": "markdown",
   "metadata": {},
   "source": [
    "### Visualizações (**view**)\n",
    "\n",
    "Como visto anteriormente, slicing cria uma **view** de um array, não uma cópia\n",
    "\n",
    "- Uma **view** é criada ao fatiar (slicing) o array\n",
    "- Uma **view** é uma referência a uma parte de um array\n",
    "- Alterar elementos da **view** afeta o array original\n",
    "- Se necessário, você pode explicitamente fazer uma cópia utilizando o método <font color='blue'>copy</font>\n"
   ]
  },
  {
   "cell_type": "code",
   "execution_count": null,
   "metadata": {},
   "outputs": [],
   "source": [
    "# gerando 18 números randomicamente entre 0 e 10\n",
    "# e reformatando em uma matriz 3x6\n",
    "x = np.random.randint(0, 10, 18).reshape(3, 6)\n",
    "\n",
    "# criando uma view do bloco consistindo das linhas 1 e 2 e das colunas 0,1 e 2\n",
    "y = x[1:, :3]  # y é um view de x\n",
    "print('Matrix original\\n', x)\n",
    "\n",
    "print('\\nView consistindo das linhas 1 e 2 e das colunas 0,1 e 2\\n', y)\n",
    "\n",
    "# modificando um elemento da view\n",
    "y[1, 1] = -1\n",
    "\n",
    "print('\\nModificando um elemento da view também afeta o array original')\n",
    "print('\\nElemento [1,1] da view modificado para -1\\n')\n",
    "print(y)\n",
    "\n",
    "print('\\nMatriz original também é afetada\\n')\n",
    "print(x)"
   ]
  },
  {
   "cell_type": "code",
   "execution_count": null,
   "metadata": {},
   "outputs": [],
   "source": [
    "# gerando 18 números randomicamente entre 0 e 10\n",
    "# e reformatando em uma matriz 3x6\n",
    "x = np.random.randint(0, 10, 18).reshape(3, 6)\n",
    "\n",
    "# criando uma copia do bloco consistindo das linhas 1 e 2 e das colunas 0,1 e 2\n",
    "y = np.copy(x[1:, :3])  # y é uma copia do bloco de x\n",
    "print('Matrix original\\n', x)\n",
    "\n",
    "print('\\n Copia das linhas 1 e 2 e das colunas 0,1 e 2\\n', y)\n",
    "\n",
    "# modificando um elemento da copia\n",
    "y[1, 1] = -1\n",
    "\n",
    "print('\\nModificando um elemento da copia NAO afeta o array original')\n",
    "print('\\nElemento [1,1] da copia modificado para -1\\n')\n",
    "print(y)\n",
    "\n",
    "print('\\nMatriz original NAO é afetada\\n')\n",
    "print(x)"
   ]
  }
 ],
 "metadata": {
  "kernelspec": {
   "display_name": "Python 3",
   "language": "python",
   "name": "python3"
  },
  "language_info": {
   "codemirror_mode": {
    "name": "ipython",
    "version": 3
   },
   "file_extension": ".py",
   "mimetype": "text/x-python",
   "name": "python",
   "nbconvert_exporter": "python",
   "pygments_lexer": "ipython3",
   "version": "3.8.9"
  }
 },
 "nbformat": 4,
 "nbformat_minor": 2
}
