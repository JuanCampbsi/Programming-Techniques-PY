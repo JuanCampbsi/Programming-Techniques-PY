{
 "cells": [
  {
   "cell_type": "code",
   "execution_count": null,
   "metadata": {},
   "outputs": [],
   "source": [
    "import numpy as np\n",
    "\n",
    "lst = [1, 3, 5, 6, 8, 9, 10]\n",
    "print(lst)\n",
    "\n",
    "ald = np.array(lst)\n",
    "print(ald)\n",
    "\n",
    "bld = np.zeros((8))\n",
    "print(\"bld=\", bld)\n",
    "\n",
    "cld = np.ones((10))\n",
    "print(\"cld=\", cld)\n",
    "\n",
    "dld = np.arange(10)\n",
    "print(\"dld=\", dld)\n",
    "\n",
    "eld = np.linspace(1, 2, 5)\n",
    "print(\"eld=\", eld)"
   ]
  },
  {
   "cell_type": "code",
   "execution_count": null,
   "metadata": {},
   "outputs": [],
   "source": [
    "# Matriz\n",
    "print(\"2D array\", 5*\"-\")\n",
    "a2d = np.array([[1, 2, 3, 4, 5, 7, 11], [2, 3, 5, 6,\n",
    "               7, 8, 10], [0, 1, 2, 7, 9, 12, 12]])\n",
    "print(\"a2d=\", a2d)"
   ]
  },
  {
   "cell_type": "code",
   "execution_count": null,
   "metadata": {},
   "outputs": [],
   "source": [
    "# Matriz 5, 3\n",
    "b2d = np.zeros((5, 3))\n",
    "print(\"b2d=\", b2d)\n",
    "\n",
    "c2d = np.ones((5, 10))\n",
    "print(\"c2d=\", c2d)\n",
    "\n",
    "d2d = np.identity(5)\n",
    "print(\"d2d=\", d2d)"
   ]
  },
  {
   "cell_type": "code",
   "execution_count": null,
   "metadata": {},
   "outputs": [],
   "source": [
    "# ndim numero de eixos do array\n",
    "print(\"b2d=\", b2d.ndim)\n",
    "print(\"c2d=\", c2d.ndim)\n",
    "print(\"d2d=\", d2d.ndim)\n",
    "print(\"eld=\", eld.ndim)"
   ]
  },
  {
   "cell_type": "code",
   "execution_count": null,
   "metadata": {},
   "outputs": [],
   "source": [
    "# shape taanho do array em cada dimensao\n",
    "print(\"b2d=\", b2d.shape)\n",
    "print(\"c2d=\", c2d.shape)\n",
    "print(\"d2d=\", d2d.shape)\n",
    "print(\"eld=\", eld.shape)"
   ]
  },
  {
   "cell_type": "code",
   "execution_count": null,
   "metadata": {},
   "outputs": [],
   "source": [
    "# size: numero total de elementos\n",
    "print(\"b2d=\", b2d.size)\n",
    "print(\"c2d=\", c2d.size)\n",
    "print(\"d2d=\", d2d.size)\n",
    "print(\"eld=\", eld.size)"
   ]
  },
  {
   "cell_type": "code",
   "execution_count": null,
   "metadata": {},
   "outputs": [],
   "source": [
    "# itemsize : tamanho em bytes de cada elemento\n",
    "print(\"b2d=\", b2d.itemsize)\n",
    "print(\"c2d=\", c2d.itemsize)\n",
    "print(\"d2d=\", d2d.itemsize)\n",
    "print(\"eld=\", eld.itemsize)"
   ]
  },
  {
   "cell_type": "code",
   "execution_count": null,
   "metadata": {},
   "outputs": [],
   "source": [
    "# data: buffer contendo os elementos do array\n",
    "print(\"b2d=\", b2d.data)\n",
    "print(\"c2d=\", c2d.data)\n",
    "print(\"d2d=\", d2d.data)\n",
    "print(\"eld=\", eld.data)"
   ]
  },
  {
   "cell_type": "code",
   "execution_count": null,
   "metadata": {},
   "outputs": [],
   "source": [
    "# Acessando\n",
    "print(\"elemento=\", lst[-1])\n",
    "print(\"a2d=\", a2d)\n",
    "print(\"linha indice=\", a2d[1])\n",
    "print(\"elemento da linha 0 e coluna 1 =\", a2d[0, 1])\n",
    "print(\"elemento da linha 1 e coluna 2 =\", a2d[1, 2])\n",
    "print(\"elemento na ultima e ultima coluna =\", a2d[2, 5])\n",
    "print(\"elemento na ultima e ultima coluna =\", a2d[-1][-1])\n",
    "print(\"Recupera=\", a2d[1, :])"
   ]
  }
 ],
 "metadata": {
  "kernelspec": {
   "display_name": "Python 3",
   "language": "python",
   "name": "python3"
  },
  "language_info": {
   "codemirror_mode": {
    "name": "ipython",
    "version": 3
   },
   "file_extension": ".py",
   "mimetype": "text/x-python",
   "name": "python",
   "nbconvert_exporter": "python",
   "pygments_lexer": "ipython3",
   "version": "3.11.4"
  },
  "orig_nbformat": 4
 },
 "nbformat": 4,
 "nbformat_minor": 2
}
