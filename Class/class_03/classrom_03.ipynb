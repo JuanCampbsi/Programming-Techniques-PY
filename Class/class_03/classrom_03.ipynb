{
 "cells": [
  {
   "cell_type": "code",
   "execution_count": null,
   "metadata": {},
   "outputs": [],
   "source": [
    "import numpy as np\n",
    "import pandas as pd"
   ]
  },
  {
   "cell_type": "code",
   "execution_count": null,
   "metadata": {},
   "outputs": [],
   "source": [
    "a = np.arange(4).reshape(2, 2)\n",
    "b = np.arange(6, 2, -1).reshape(2, 2)\n",
    "\n",
    "m = (a == b)\n",
    "\n",
    "print(\"A:\\n\", a)\n",
    "print(\"B:\\n\", b)\n",
    "\n",
    "print(\"M:\\n\", m)"
   ]
  },
  {
   "cell_type": "code",
   "execution_count": null,
   "metadata": {},
   "outputs": [],
   "source": [
    "a = np.arange(4).reshape(2, 2)\n",
    "b = np.arange(6, 2, -1).reshape(2, 2)\n",
    "\n",
    "c = np.copy(a)\n",
    "\n",
    "print(\"C:\\n\", np.array_equal(a, b))\n",
    "print(\"Equal:\\n\", np.array_equal(a, c))"
   ]
  },
  {
   "cell_type": "code",
   "execution_count": null,
   "metadata": {},
   "outputs": [],
   "source": [
    "# Reduções\n",
    "a = np.zeros((5, 5))\n",
    "\n",
    "a[:] = np.arange(5)  # Broadcasting\n",
    "\n",
    "print(\"A: \\n\", a)\n",
    "print(\"Soma de todos os valores: \\n\", np.sum(a))\n",
    "print(\"Soma dos valores por coluna: \\n\", np.sum(a, axis=0))\n",
    "print(\"Soma dos valores por linha: \\n\", np.sum(a, axis=1))\n",
    "\n",
    "print(\"Soma dos valores por coluna utilizando o where: \\n\",\n",
    "      np.sum(a, axis=0, where=a < 3))\n",
    "print(\"Soma dos valores por linha utilizando o where: \\n\",\n",
    "      np.sum(a, axis=1, where=a < 3))"
   ]
  },
  {
   "cell_type": "code",
   "execution_count": null,
   "metadata": {},
   "outputs": [],
   "source": [
    "a = np.random.randint(low=0, high=30, size=(5, 5))\n",
    "print(\"A: \\n\", a)\n",
    "\n",
    "print(\"Maior valor dentre todos na matriz: \\n\", np.max(a))\n",
    "# transforma o array em unidimensional e retorna a posicao\n",
    "print(\"Posicao do maior dentre todos na matriz: \\n\", np.argmax(a))\n",
    "print(\"Maior valor em cada coluna: \\n\", np.max(\n",
    "    a, axis=0))  # maior valor em cada coluna\n",
    "print(\"Posicao do maior valor em cada coluna: \\n\",\n",
    "      np.argmax(a, axis=0))  # maior valor em cada coluna"
   ]
  },
  {
   "cell_type": "code",
   "execution_count": null,
   "metadata": {},
   "outputs": [],
   "source": [
    "a = np.random.randint(low=0, high=30, size=(5, 5)).astype(float)\n",
    "\n",
    "print(\"Media de todos os valores: \\n\", np.mean(a))\n",
    "print(\"Media por coluna: \\n\", np.mean(a, axis=0))  # media por coluna\n",
    "print(\"Media por linha: \\n\", np.mean(a, axis=1))  # media por linha"
   ]
  },
  {
   "cell_type": "code",
   "execution_count": null,
   "metadata": {},
   "outputs": [],
   "source": [
    "print(\"Mediana de todos: \\n\", np.median(a))\n",
    "print(\"Mediana por coluna: \\n\", np.median(a, axis=0))  # median por coluna\n",
    "print(\"Mediana por linha: \\n\", np.median(a, axis=1))  # median por linha"
   ]
  },
  {
   "cell_type": "code",
   "execution_count": null,
   "metadata": {},
   "outputs": [],
   "source": [
    "print(\"Desvio padrão de todos: \\n\", np.std(a))\n",
    "print(\"Desvio padrão por coluna: \\n\", np.std(\n",
    "    a, axis=0))  # Desvio padrão  por coluna\n",
    "print(\"Desvio padrão  por linha: \\n\", np.std(\n",
    "    a, axis=1))  # Desvio padrão  por linha"
   ]
  },
  {
   "cell_type": "code",
   "execution_count": null,
   "metadata": {},
   "outputs": [],
   "source": [
    "a = np.arange(25).reshape(5, 5)\n",
    "print(\"A: \\n\", a)\n",
    "\n",
    "m = a > 0\n",
    "\n",
    "print(\"Todos elementos sao true: \\n\", np.all(m))\n",
    "print(\"Alguns elementos sao true: \\n\", np.any(m))\n",
    "\n",
    "print(\"Todos elementos de cada coluna sao true: \\n\", np.all(m, axis=0))\n",
    "print(\"Alguns elementos de cada coluna sao true: \\n\",  np.any(m, axis=0))"
   ]
  },
  {
   "cell_type": "code",
   "execution_count": null,
   "metadata": {},
   "outputs": [],
   "source": [
    "a = np.random.randint(low=0, high=30, size=(30))\n",
    "\n",
    "b = np.sort(a)\n",
    "\n",
    "# Cria uma cópia da matriz na memoria\n",
    "print(\"B - Ordenacao sem afetar o original: \\n\", b)\n",
    "print(\"A: \\n\", a)\n",
    "\n",
    "a.sort()\n",
    "print(\"A: \\n\", a)\n",
    "print(\"Array afetado: \\n\", a)  # Afeta o array original"
   ]
  },
  {
   "cell_type": "code",
   "execution_count": null,
   "metadata": {},
   "outputs": [],
   "source": [
    "a = np.random.randint(low=0, high=30, size=(3, 3)).astype(float)\n",
    "print(\"A: \\n\", a)\n",
    "\n",
    "index = np.argsort(a)\n",
    "\n",
    "for i in range(a.shape[0]):\n",
    "    print(\"Indices dos elementos ordenados na linha, \", i, ':', index[i])\n",
    "    print(\"Linha, \", i, ':' + 10 * ' ', a[i])\n",
    "    print(\"Linha, \", i, 'ordena', a[i, index[i]], \"\\n\")"
   ]
  },
  {
   "cell_type": "code",
   "execution_count": null,
   "metadata": {},
   "outputs": [],
   "source": [
    "# Pandas\n",
    "ls = ['a', 'b', 'c']\n",
    "\n",
    "indices = ['id' + str(i) for i in range(len(ls))]\n",
    "series = pd.Series(ls, index=indices)\n",
    "\n",
    "print(series)"
   ]
  },
  {
   "cell_type": "code",
   "execution_count": null,
   "metadata": {},
   "outputs": [],
   "source": [
    "dicts = {\"A\": 50, \"B\": 10}\n",
    "series = pd.Series(dicts)\n",
    "print(series)"
   ]
  },
  {
   "cell_type": "code",
   "execution_count": null,
   "metadata": {},
   "outputs": [],
   "source": [
    "dicts = {\"A\": 50, \"B\": 10, \"C\": 80}\n",
    "series = pd.Series(dicts)\n",
    "\n",
    "# Acessando com rotulos\n",
    "print(\"Acessando\", series['A'])\n",
    "\n",
    "# Acessando com uma lista de rotulos\n",
    "print(\"Acessando com uma lista de rotulos\\n\", series[['A', 'B']])\n",
    "\n",
    "# Slicing c\n",
    "print(\"Elemento de indice 0\\n\", series[0])\n",
    "print(\"Elemento de indice 0 e 1\\n\", series[0:1])\n",
    "print(\"Elemento B e C\\n\", series[\"B\":\"C\"])\n",
    "\n",
    "# # Mask\n",
    "rotulo = (series <= 10)\n",
    "print(series[rotulo])"
   ]
  }
 ],
 "metadata": {
  "kernelspec": {
   "display_name": "Python 3",
   "language": "python",
   "name": "python3"
  },
  "language_info": {
   "codemirror_mode": {
    "name": "ipython",
    "version": 3
   },
   "file_extension": ".py",
   "mimetype": "text/x-python",
   "name": "python",
   "nbconvert_exporter": "python",
   "pygments_lexer": "ipython3",
   "version": "3.11.4"
  },
  "orig_nbformat": 4
 },
 "nbformat": 4,
 "nbformat_minor": 2
}
