{
 "cells": [
  {
   "cell_type": "code",
   "execution_count": null,
   "metadata": {},
   "outputs": [],
   "source": [
    "import pandas as pd\n",
    "import numpy as np"
   ]
  },
  {
   "cell_type": "markdown",
   "metadata": {},
   "source": [
    "# Cria uma série a partir de um array com rótulos\n"
   ]
  },
  {
   "cell_type": "code",
   "execution_count": null,
   "metadata": {},
   "outputs": [],
   "source": [
    "indice = [0, 1, 3]  # rotulos\n",
    "valores = np.arange(3)\n",
    "\n",
    "# Cria uma serie a partir de um array com rótulos\n",
    "s = pd.Series(valores, index=indice)\n",
    "\n",
    "print(\"Série original: \\n\", s)"
   ]
  },
  {
   "cell_type": "markdown",
   "metadata": {},
   "source": [
    "# Ele gera uma nova ordem e incluí rotulos\n"
   ]
  },
  {
   "cell_type": "code",
   "execution_count": null,
   "metadata": {},
   "outputs": [],
   "source": [
    "s_nan = s.reindex([4, 3, 2, 1, 0])\n",
    "# Ao incluir o valor que nao existe ele incluir um NaN que é um floatpoint\n",
    "# Ele gera uma nova ordem e inclui rotulos que nao estavam na ´serie original\n",
    "print(\"Lista de index: \\n\", s_nan)"
   ]
  },
  {
   "cell_type": "markdown",
   "metadata": {},
   "source": [
    "# Criando uma mascara boolean para tratar NaN\n"
   ]
  },
  {
   "cell_type": "code",
   "execution_count": null,
   "metadata": {},
   "outputs": [],
   "source": [
    "# Criando uma mascara boolean para tratar NaN\n",
    "\n",
    "s_mask_nan = pd.isna(s_nan)\n",
    "s_nan[s_mask_nan] = -1\n",
    "\n",
    "print(\"Valor com mascara \\n\", s_nan)"
   ]
  },
  {
   "cell_type": "markdown",
   "metadata": {},
   "source": [
    "# Tratando NaN sem mascara\n"
   ]
  },
  {
   "cell_type": "code",
   "execution_count": null,
   "metadata": {},
   "outputs": [],
   "source": [
    "s_fvalue = s.reindex([4, 3, 2, 1, 0], fill_value=-1)\n",
    "print(\"fill_value \\n\", s_nan)"
   ]
  },
  {
   "cell_type": "markdown",
   "metadata": {},
   "source": [
    "# Operações com series\n"
   ]
  },
  {
   "cell_type": "code",
   "execution_count": null,
   "metadata": {},
   "outputs": [],
   "source": [
    "values_s1 = [3, 8, 0, 4, 5]\n",
    "\n",
    "index_s1 = ['id: ' + str(i) for i in values_s1]\n",
    "\n",
    "s1 = pd.Series(values_s1, index=index_s1)\n",
    "print(s1)"
   ]
  },
  {
   "cell_type": "code",
   "execution_count": null,
   "metadata": {},
   "outputs": [],
   "source": [
    "values_s2 = [3, 9, 8]\n",
    "\n",
    "index_s2 = ['id' + str(i) for i in values_s2]\n",
    "\n",
    "s2 = pd.Series(values_s2, index=index_s2)\n",
    "print(s2)"
   ]
  },
  {
   "cell_type": "markdown",
   "metadata": {},
   "source": [
    "# Ordenação dos elementos de uma série\n"
   ]
  },
  {
   "cell_type": "code",
   "execution_count": null,
   "metadata": {},
   "outputs": [],
   "source": [
    "r = pd.Series(np.random.randint(0, 10, 4), index=['d', 'a', 'b', 'c'])\n",
    "print(r)\n",
    "# ordena pelos rótulos retornando uma nova série ordenada (a original não é modificado - faz cópia)\n",
    "print(r.sort_index(ascending=True))\n",
    "\n",
    "# ordena pelos valores retornando uma nova série modificada (o original é modificado)\n",
    "print(r.sort_values(ascending=False))"
   ]
  },
  {
   "cell_type": "markdown",
   "metadata": {},
   "source": [
    "# Rótulos repetidos\n",
    "\n",
    "Séries podem possuir rótulos repetidos, facilitando a recuperação de partes\n"
   ]
  },
  {
   "cell_type": "code",
   "execution_count": null,
   "metadata": {},
   "outputs": [],
   "source": [
    "# gerando uma série com valores de 0 e 6 senquenciais nao aleatórios\n",
    "s = pd.Series(range(7), index=list('ababcda'))\n",
    "print(s)"
   ]
  },
  {
   "cell_type": "code",
   "execution_count": null,
   "metadata": {},
   "outputs": [],
   "source": [
    "print(\"Recuperando subserie de rótulos 'a'\")\n",
    "print(s['a'])  # recuperando a subserie de rótulos a\n",
    "print(s['b'])  # recuperando a subserie de rótulos b"
   ]
  },
  {
   "cell_type": "markdown",
   "metadata": {},
   "source": [
    "# Outros métodos\n",
    "\n",
    "Métodos para operar sobre valores\n"
   ]
  },
  {
   "cell_type": "code",
   "execution_count": null,
   "metadata": {},
   "outputs": [],
   "source": [
    "s = pd.Series(['c', 'a', 'd', 'a', 'a', 'b', 'b', 'c', 'c'])\n",
    "\n",
    "print(\"Valores únicos da série: \\n\", s.unique())\n",
    "print(\"\\nContagem do número de ocorrências de cada valor: \\n\", s.value_counts())\n",
    "\n",
    "print(\"\\nVerifica onde os valores ocorrem na série: \\n\", s.isin(['b', 'd']))"
   ]
  },
  {
   "cell_type": "markdown",
   "metadata": {},
   "source": [
    "# DataFrames\n",
    "\n",
    "Ele é comparado com excel porém tem outras possibilidades.\n",
    "\n",
    "Em um dataframe tanto as linhas e colunas são indexadas por rótulos\n"
   ]
  },
  {
   "cell_type": "code",
   "execution_count": null,
   "metadata": {},
   "outputs": [],
   "source": [
    "d = {'state': ['FL', 'FL', 'GA', 'GA', 'FL', 'FL'],\n",
    "     'year': [2010, 2021, 2010, 2011, 2013, 2009],\n",
    "     'pop': [18.8, 19.1, 9.7, 9.8, 7.1, 8.3]}\n",
    "\n",
    "df_d = pd.DataFrame(d)\n",
    "\n",
    "df_d.head(2)  # mostra os 2 primeiros"
   ]
  },
  {
   "cell_type": "code",
   "execution_count": null,
   "metadata": {},
   "outputs": [],
   "source": [
    "df_d.dtypes  # mostra os types de dados"
   ]
  },
  {
   "cell_type": "code",
   "execution_count": null,
   "metadata": {},
   "outputs": [],
   "source": [
    "dod = {'FL': {2010: 18.1, 2011: 19.1},\n",
    "       'GA': {2008: 9.7, 2010: 9.8}}\n",
    "\n",
    "df_dod = pd.DataFrame(dod)\n",
    "print(df_dod)"
   ]
  },
  {
   "cell_type": "code",
   "execution_count": null,
   "metadata": {},
   "outputs": [],
   "source": [
    "d = {'state': ['FL', 'FL', 'GA', 'GA', 'FL', 'FL'],\n",
    "     'year': [2010, 2021, 2010, 2011, 2013, 2009],\n",
    "     'pop': [18.8, 19.1, 9.7, 9.8, 7.1, 8.3]}\n",
    "\n",
    "df_d = pd.DataFrame(d)\n",
    "print(df_d)"
   ]
  },
  {
   "cell_type": "code",
   "execution_count": null,
   "metadata": {},
   "outputs": [],
   "source": [
    "# imprime o nome das colunas\n",
    "print(\"Rótulo das colunas: \", df_d.columns.values)\n",
    "print(5*'-')\n",
    "print('Coluna \"pop\": \\n', df_d['pop'])\n",
    "print(5*'-')\n",
    "print('Coluna \"pop\": \\n', df_d['year'])\n",
    "print(5*'-')\n",
    "print('Coluna \"pop\" e \"year\": \\n', df_d[['pop', 'year']])"
   ]
  },
  {
   "cell_type": "markdown",
   "metadata": {},
   "source": [
    "# DataFrame e expressões booleanas\n",
    "\n",
    "O método quere permite recuperar elementos utilizando uma expressão booleana fornecida como uma string\n"
   ]
  },
  {
   "cell_type": "code",
   "execution_count": null,
   "metadata": {},
   "outputs": [],
   "source": [
    "d = {'state': ['FL', 'FL', 'GA', 'GA', 'FL', 'FL'],\n",
    "     'year': [2010, 2021, 2010, 2011, 2013, 2009],\n",
    "     'pop': [18.8, 19.1, 9.7, 9.8, 7.1, 8.3]}\n",
    "\n",
    "df_d = pd.DataFrame(d)\n",
    "# recupera as linhas do DataFrame cujos elementos da coluna pop são maiores que 10\n",
    "df_d.query('pop < 10')"
   ]
  },
  {
   "cell_type": "code",
   "execution_count": null,
   "metadata": {},
   "outputs": [],
   "source": [
    "print(\"Utilando mais de uma comparação\")\n",
    "df_d.query('pop < 10 & state != \"GA\"')"
   ]
  },
  {
   "cell_type": "markdown",
   "metadata": {},
   "source": [
    "# Criando e removendo colunas dataframe\n",
    "\n",
    "utilizar drop ou del\n"
   ]
  },
  {
   "cell_type": "code",
   "execution_count": null,
   "metadata": {},
   "outputs": [],
   "source": [
    "d = {'state': ['FL', 'FL', 'GA', 'GA', 'FL', 'FL'],\n",
    "     'year': [2010, 2021, 2010, 2011, 2013, 2009],\n",
    "     'pop': [18.8, 19.1, 9.7, 9.8, 7.1, 8.3]}\n",
    "\n",
    "df_d = pd.DataFrame(d)\n",
    "# shape eu pego o numero de linhas do dataframe\n",
    "df_d['new_col'] = np.zeros((df_d.shape[0]))\n",
    "df_d"
   ]
  },
  {
   "cell_type": "code",
   "execution_count": null,
   "metadata": {},
   "outputs": [],
   "source": [
    "df_d.drop(['new_col'], axis=1)"
   ]
  },
  {
   "cell_type": "markdown",
   "metadata": {},
   "source": [
    "# Manipulando e Acessando linhas\n",
    "\n",
    "iloc e loc\n"
   ]
  },
  {
   "cell_type": "code",
   "execution_count": null,
   "metadata": {},
   "outputs": [],
   "source": [
    "a = np.random.randint(0, 30, 35).reshape(7, 5)\n",
    "\n",
    "rotulo_linhas = ['li' + str(i) for i in range(a.shape[0])]\n",
    "rotulo_colunas = ['co' + str(i) for i in range(a.shape[1])]\n",
    "\n",
    "df_a = pd.DataFrame(a, index=rotulo_linhas, columns=rotulo_colunas)\n",
    "df_a"
   ]
  },
  {
   "cell_type": "code",
   "execution_count": null,
   "metadata": {},
   "outputs": [],
   "source": [
    "print('Acessando linha de indice 2:')\n",
    "df_a.iloc[2]"
   ]
  },
  {
   "cell_type": "code",
   "execution_count": null,
   "metadata": {},
   "outputs": [],
   "source": [
    "print('Acessando linha de indice:')\n",
    "df_a.iloc[2:4, 1:]"
   ]
  },
  {
   "cell_type": "code",
   "execution_count": null,
   "metadata": {},
   "outputs": [],
   "source": [
    "print('Acessando a linha com rotulo \"li2\":')\n",
    "\n",
    "df_a.loc[['li3']]"
   ]
  },
  {
   "cell_type": "code",
   "execution_count": null,
   "metadata": {},
   "outputs": [],
   "source": [
    "print('Acessando a linha com rotulo \"li1\" , \"li3\" :')\n",
    "df_a.loc[['li1', 'li3']]"
   ]
  },
  {
   "cell_type": "code",
   "execution_count": null,
   "metadata": {},
   "outputs": [],
   "source": [
    "print('Acessando a linha entre rotulo \"li1\" , \"li3\" :')\n",
    "print(df_a.loc['li1': 'li3', 'co3'])"
   ]
  }
 ],
 "metadata": {
  "kernelspec": {
   "display_name": "Python 3",
   "language": "python",
   "name": "python3"
  },
  "language_info": {
   "codemirror_mode": {
    "name": "ipython",
    "version": 3
   },
   "file_extension": ".py",
   "mimetype": "text/x-python",
   "name": "python",
   "nbconvert_exporter": "python",
   "pygments_lexer": "ipython3",
   "version": "3.11.4"
  },
  "orig_nbformat": 4
 },
 "nbformat": 4,
 "nbformat_minor": 2
}
